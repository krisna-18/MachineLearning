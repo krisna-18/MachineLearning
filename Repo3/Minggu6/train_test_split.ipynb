{
 "cells": [
  {
   "cell_type": "code",
   "execution_count": 1,
   "id": "240bbb09-6d4e-461c-a51b-fa6bd0f297ab",
   "metadata": {},
   "outputs": [],
   "source": [
    "import sklearn\n",
    "from sklearn import datasets"
   ]
  },
  {
   "cell_type": "code",
   "execution_count": 2,
   "id": "5da0e11d-1fdb-4d77-a111-6f8f1eeaafc9",
   "metadata": {},
   "outputs": [],
   "source": [
    "# load digits dataset\n",
    "digits = datasets.load_digits()"
   ]
  },
  {
   "cell_type": "code",
   "execution_count": 3,
   "id": "852e7402-d706-461b-91c9-c0b9a20414b8",
   "metadata": {},
   "outputs": [],
   "source": [
    "# pisahkan atribut dan label pada digits dataset\n",
    "x = digits.data\n",
    "y = digits.target\n",
    "from sklearn.model_selection import train_test_split"
   ]
  },
  {
   "cell_type": "code",
   "execution_count": 4,
   "id": "45f3d90b-8f91-42b2-9ed0-22eccbf822e9",
   "metadata": {},
   "outputs": [],
   "source": [
    "# membagi dataset menjadi training dan testing \n",
    "x_train, x_test, y_train, y_test = train_test_split(x, y, test_size=0.2, random_state=1)"
   ]
  },
  {
   "cell_type": "code",
   "execution_count": 5,
   "id": "c5cf46d9-ce4d-45e5-b584-008e4fbcc8dd",
   "metadata": {},
   "outputs": [
    {
     "name": "stdout",
     "output_type": "stream",
     "text": [
      "1797\n",
      "1437\n",
      "360\n",
      "1437\n",
      "360\n"
     ]
    }
   ],
   "source": [
    "# menghitung panjang/jumlah data pada masing-masing direktori split\n",
    "print(len(x))\n",
    "print(len(x_train))\n",
    "print(len(x_test))\n",
    "print(len(y_train))\n",
    "print(len(y_test))\n"
   ]
  }
 ],
 "metadata": {
  "kernelspec": {
   "display_name": "Python 3 (ipykernel)",
   "language": "python",
   "name": "python3"
  },
  "language_info": {
   "codemirror_mode": {
    "name": "ipython",
    "version": 3
   },
   "file_extension": ".py",
   "mimetype": "text/x-python",
   "name": "python",
   "nbconvert_exporter": "python",
   "pygments_lexer": "ipython3",
   "version": "3.12.2"
  }
 },
 "nbformat": 4,
 "nbformat_minor": 5
}
