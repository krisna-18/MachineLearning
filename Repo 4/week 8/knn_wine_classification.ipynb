{
 "cells": [
  {
   "cell_type": "code",
   "execution_count": 1,
   "id": "8720fcd3-b88a-40b7-a725-86828f127947",
   "metadata": {},
   "outputs": [],
   "source": [
    "import pandas as pd\n",
    "from sklearn.model_selection import train_test_split\n",
    "from sklearn.neighbors import KNeighborsClassifier\n",
    "from sklearn.metrics import accuracy_score"
   ]
  },
  {
   "cell_type": "code",
   "execution_count": 2,
   "id": "c5a5ddd9-9887-48c1-9d2a-d9cc910bfc83",
   "metadata": {},
   "outputs": [],
   "source": [
    "# Membaca file wine.csv\n",
    "wine = pd.read_csv('wine.csv')"
   ]
  },
  {
   "cell_type": "code",
   "execution_count": 3,
   "id": "6988ff1f-f801-4fd1-90d1-6239c968b730",
   "metadata": {},
   "outputs": [
    {
     "name": "stdout",
     "output_type": "stream",
     "text": [
      "<class 'pandas.core.frame.DataFrame'>\n",
      "RangeIndex: 30 entries, 0 to 29\n",
      "Data columns (total 14 columns):\n",
      " #   Column                        Non-Null Count  Dtype  \n",
      "---  ------                        --------------  -----  \n",
      " 0   Alcohol                       30 non-null     float64\n",
      " 1   Malic_Acid                    30 non-null     float64\n",
      " 2   Ash                           30 non-null     float64\n",
      " 3   Alcalinity_of_Ash             30 non-null     float64\n",
      " 4   Magnesium                     30 non-null     int64  \n",
      " 5   Total_Phenols                 30 non-null     float64\n",
      " 6   Flavanoids                    30 non-null     float64\n",
      " 7   Nonflavanoid_Phenols          30 non-null     float64\n",
      " 8   Proanthocyanins               30 non-null     float64\n",
      " 9   Color_Intensity               30 non-null     float64\n",
      " 10  Hue                           30 non-null     float64\n",
      " 11  OD280/OD315_of_Diluted_Wines  30 non-null     float64\n",
      " 12  Proline                       30 non-null     int64  \n",
      " 13  Class                         30 non-null     int64  \n",
      "dtypes: float64(11), int64(3)\n",
      "memory usage: 3.4 KB\n"
     ]
    }
   ],
   "source": [
    "# Melihat informasi dataset\n",
    "wine.info()"
   ]
  },
  {
   "cell_type": "code",
   "execution_count": 4,
   "id": "36245c7d-bf3d-4bfa-8ad4-718336e79233",
   "metadata": {},
   "outputs": [
    {
     "name": "stdout",
     "output_type": "stream",
     "text": [
      "   Alcohol  Malic_Acid   Ash  Alcalinity_of_Ash  Magnesium  Total_Phenols  \\\n",
      "0    14.23        1.71  2.43               15.6        127           2.80   \n",
      "1    13.20        1.78  2.14               11.2        100           2.65   \n",
      "2    13.16        2.36  2.67               18.6        101           2.80   \n",
      "3    14.37        1.95  2.50               16.8        113           3.85   \n",
      "4    13.24        2.59  2.87               21.0        118           2.80   \n",
      "\n",
      "   Flavanoids  Nonflavanoid_Phenols  Proanthocyanins  Color_Intensity   Hue  \\\n",
      "0        3.06                  0.28             2.29             5.64  1.04   \n",
      "1        2.76                  0.26             1.28             4.38  1.05   \n",
      "2        3.24                  0.30             2.81             5.68  1.03   \n",
      "3        3.49                  0.24             2.18             7.80  0.86   \n",
      "4        2.69                  0.39             1.82             4.32  1.04   \n",
      "\n",
      "   OD280/OD315_of_Diluted_Wines  Proline  Class  \n",
      "0                          3.92     1065      1  \n",
      "1                          3.40     1050      1  \n",
      "2                          3.17     1185      1  \n",
      "3                          3.45     1480      1  \n",
      "4                          2.93      735      1  \n"
     ]
    }
   ],
   "source": [
    "# Melihat informasi dataset pada 5 baris pertama\n",
    "print(wine.head())\n"
   ]
  },
  {
   "cell_type": "code",
   "execution_count": 5,
   "id": "c9e1fd6c-991c-4b1e-8957-e948d14f8c6e",
   "metadata": {},
   "outputs": [],
   "source": [
    "# Menghilangkan kolom 'Id' jika ada, karena tidak digunakan\n",
    "if 'Id' in wine.columns:\n",
    "    wine.drop('Id', axis=1, inplace=True)"
   ]
  },
  {
   "cell_type": "code",
   "execution_count": 6,
   "id": "00be4c85-9874-492a-a7fe-7ba07dd305c6",
   "metadata": {},
   "outputs": [],
   "source": [
    "# Memisahkan atribut dan label\n",
    "X = wine.drop('Class', axis=1)\n",
    "y = wine['Class']"
   ]
  },
  {
   "cell_type": "code",
   "execution_count": 7,
   "id": "8dd9cae0-d816-4763-817c-1f7e1ef72098",
   "metadata": {},
   "outputs": [],
   "source": [
    "# Membagi dataset menjadi data latih & data uji\n",
    "X_train, X_test, y_train, y_test = train_test_split(X, y, test_size=0.1, random_state=123)"
   ]
  },
  {
   "cell_type": "code",
   "execution_count": 8,
   "id": "2c06adb2-7a47-4f38-9bbe-99b401dc6204",
   "metadata": {},
   "outputs": [],
   "source": [
    "# Membuat model K-Nearest Neighbors (KNN)\n",
    "knn_model = KNeighborsClassifier()"
   ]
  },
  {
   "cell_type": "code",
   "execution_count": 9,
   "id": "77d9c8de-814b-4632-aaa3-7c0d193aaa8a",
   "metadata": {},
   "outputs": [],
   "source": [
    "# Melatih model dengan menggunakan data latih\n",
    "knn_model = knn_model.fit(X_train, y_train)"
   ]
  },
  {
   "cell_type": "code",
   "execution_count": 10,
   "id": "2a7db9cd-64eb-487a-93fa-097464f18d75",
   "metadata": {},
   "outputs": [
    {
     "name": "stdout",
     "output_type": "stream",
     "text": [
      "Accuracy: 1.0\n"
     ]
    }
   ],
   "source": [
    "# Evaluasi Model\n",
    "y_pred = knn_model.predict(X_test)\n",
    "acc_score = round(accuracy_score(y_pred, y_test), 3)\n",
    "print('Accuracy:', acc_score)"
   ]
  },
  {
   "cell_type": "code",
   "execution_count": 11,
   "id": "ce13aee9-95cb-4bcd-ae5b-54133c6d3d6e",
   "metadata": {},
   "outputs": [
    {
     "name": "stdout",
     "output_type": "stream",
     "text": [
      "Predicted class: 1\n"
     ]
    }
   ],
   "source": [
    "# Prediksi dengan menggunakan model KNN\n",
    "sample_data = pd.DataFrame([[14.23, 1.71, 2.43, 15.6, 127, 2.8, 3.06, 0.28, 2.29, 5.64, 1.04, 3.92, 1065]],\n",
    "                           columns=X.columns)\n",
    "print('Predicted class:', knn_model.predict(sample_data)[0])"
   ]
  },
  {
   "cell_type": "code",
   "execution_count": 12,
   "id": "26aea5a8-07b0-4f17-995e-1173a0e36126",
   "metadata": {},
   "outputs": [],
   "source": [
    "# Jika ingin menggunakan library tambahan untuk visualisasi, kita bisa menambahkan kode di sini\n",
    "# Contohnya menggunakan seaborn untuk visualisasi data\n",
    "import seaborn as sns\n",
    "import matplotlib.pyplot as plt\n",
    "\n"
   ]
  },
  {
   "cell_type": "code",
   "execution_count": 13,
   "id": "908d1705-6920-4387-9b4b-e19f039e87f2",
   "metadata": {},
   "outputs": [
    {
     "data": {
      "image/png": "[encoded data removed]",
      "text/plain": [
       "<Figure size 640x480 with 1 Axes>"
      ]
     },
     "metadata": {},
     "output_type": "display_data"
    }
   ],
   "source": [
    "# Membuat plot distribusi kelas\n",
    "sns.countplot(x='Class', data=wine)\n",
    "plt.title('Distribusi Kelas dalam Dataset Wine')\n",
    "plt.show()"
   ]
  },
  {
   "cell_type": "code",
   "execution_count": null,
   "id": "85eedb35-562c-42b7-a3c3-4fe6191fcb7b",
   "metadata": {},
   "outputs": [],
   "source": []
  }
 ],
 "metadata": {
  "kernelspec": {
   "display_name": "Python 3 (ipykernel)",
   "language": "python",
   "name": "python3"
  },
  "language_info": {
   "codemirror_mode": {
    "name": "ipython",
    "version": 3
   },
   "file_extension": ".py",
   "mimetype": "text/x-python",
   "name": "python",
   "nbconvert_exporter": "python",
   "pygments_lexer": "ipython3",
   "version": "3.12.2"
  }
 },
 "nbformat": 4,
 "nbformat_minor": 5
}
