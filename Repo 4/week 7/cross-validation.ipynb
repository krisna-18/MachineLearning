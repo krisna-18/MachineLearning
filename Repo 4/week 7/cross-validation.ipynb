{
 "cells": [
  {
   "cell_type": "code",
   "execution_count": 1,
   "id": "8e208409-5009-493f-a978-04f1f61dc7d6",
   "metadata": {},
   "outputs": [],
   "source": [
    "# Impor pustaka yang diperlukan\n",
    "import sklearn\n",
    "from sklearn import datasets\n",
    "from sklearn.model_selection import cross_val_score\n",
    "from sklearn.neighbors import KNeighborsClassifier\n"
   ]
  },
  {
   "cell_type": "code",
   "execution_count": 2,
   "id": "df1ac933-9b4f-4707-a5cd-b6e16d6a69e0",
   "metadata": {},
   "outputs": [],
   "source": [
    "# Memuat dataset Wine\n",
    "wine = datasets.load_wine()\n"
   ]
  },
  {
   "cell_type": "code",
   "execution_count": 3,
   "id": "3ef48a65-cfbc-4bd0-9a5a-3ffba7b434eb",
   "metadata": {},
   "outputs": [],
   "source": [
    "# Membagi data menjadi fitur (X) dan label (y)\n",
    "X = wine.data\n",
    "y = wine.target"
   ]
  },
  {
   "cell_type": "code",
   "execution_count": 4,
   "id": "e28db370-0a4c-43cb-b258-817cabddbbee",
   "metadata": {},
   "outputs": [],
   "source": [
    "# Membuat model K-Nearest Neighbors (KNN)\n",
    "knn = KNeighborsClassifier()"
   ]
  },
  {
   "cell_type": "code",
   "execution_count": 5,
   "id": "23c998ad-6ee1-4044-8c65-a70d412e59a5",
   "metadata": {},
   "outputs": [],
   "source": [
    "# Mengevaluasi performa model menggunakan cross-validation\n",
    "scores = cross_val_score(knn, X, y, cv=5)"
   ]
  },
  {
   "cell_type": "code",
   "execution_count": 6,
   "id": "bf79ad75-1424-4fda-a694-a4c5899bfee3",
   "metadata": {},
   "outputs": [
    {
     "name": "stdout",
     "output_type": "stream",
     "text": [
      "Skor cross-validation: [0.72222222 0.66666667 0.63888889 0.65714286 0.77142857]\n",
      "Rata-rata skor cross-validation: 0.6912698412698413\n"
     ]
    }
   ],
   "source": [
    "# Mencetak skor cross-validation\n",
    "print(\"Skor cross-validation:\", scores)\n",
    "print(\"Rata-rata skor cross-validation:\", scores.mean())"
   ]
  },
  {
   "cell_type": "code",
   "execution_count": null,
   "id": "f17e4a8b-f40e-4fba-b706-cb66bd1d6e3f",
   "metadata": {},
   "outputs": [],
   "source": []
  }
 ],
 "metadata": {
  "kernelspec": {
   "display_name": "Python 3 (ipykernel)",
   "language": "python",
   "name": "python3"
  },
  "language_info": {
   "codemirror_mode": {
    "name": "ipython",
    "version": 3
   },
   "file_extension": ".py",
   "mimetype": "text/x-python",
   "name": "python",
   "nbconvert_exporter": "python",
   "pygments_lexer": "ipython3",
   "version": "3.12.2"
  }
 },
 "nbformat": 4,
 "nbformat_minor": 5
}
