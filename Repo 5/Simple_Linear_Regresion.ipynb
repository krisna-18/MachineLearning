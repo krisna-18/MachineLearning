{
 "cells": [
  {
   "cell_type": "code",
   "execution_count": 1,
   "id": "ac075bfe-1c6f-450b-a978-ab79543360b9",
   "metadata": {},
   "outputs": [
    {
     "name": "stdout",
     "output_type": "stream",
     "text": [
      "   Processor_Speed_GHz  Price_USD\n",
      "0                  1.0        300\n",
      "1                  1.5        350\n",
      "2                  2.0        400\n",
      "3                  2.5        450\n",
      "4                  3.0        500\n"
     ]
    }
   ],
   "source": [
    "import pandas as pd\n",
    "\n",
    "#load dataset\n",
    "data = pd.read_csv('laptop_prices.csv')\n",
    "\n",
    "#menampilkan beberapa baris pertama dataset\n",
    "print(data.head())"
   ]
  },
  {
   "cell_type": "code",
   "execution_count": 2,
   "id": "5cf9931c-c8b4-4207-ae0a-526f49e44a2f",
   "metadata": {},
   "outputs": [
    {
     "data": {
      "image/png": "[encoded data removed]",
      "text/plain": [
       "<Figure size 640x480 with 1 Axes>"
      ]
     },
     "metadata": {},
     "output_type": "display_data"
    }
   ],
   "source": [
    "import matplotlib.pyplot as plt\n",
    "\n",
    "#plot the data\n",
    "plt.scatter(data['Processor_Speed_GHz'], data['Price_USD'], color='blue')\n",
    "plt.xlabel('Processor Speed GHz')\n",
    "plt.ylabel('Price (USD)')\n",
    "plt.title('Processor Speed vs. Price')\n",
    "plt.show()"
   ]
  },
  {
   "cell_type": "code",
   "execution_count": 3,
   "id": "76555212-7378-498e-9c7d-778c12c16631",
   "metadata": {},
   "outputs": [
    {
     "name": "stdout",
     "output_type": "stream",
     "text": [
      "Intercept: [200.]\n",
      "Coeffeicient: [[100.]]\n"
     ]
    }
   ],
   "source": [
    "from sklearn.model_selection import train_test_split\n",
    "from sklearn.linear_model import LinearRegression\n",
    "\n",
    "# Membagi data untuk training dan testing\n",
    "X = data[['Processor_Speed_GHz']]\n",
    "y = data[['Price_USD']]\n",
    "X_train, X_test, y_train, y_test = train_test_split(X, y, test_size=0.2, random_state=0)\n",
    "\n",
    "# Membuat dan melatih model\n",
    "model = LinearRegression()\n",
    "model.fit(X_train, y_train)\n",
    "\n",
    "# Membuat Prediksi\n",
    "y_pred = model.predict(X_test)\n",
    "\n",
    "# Menampilkan parameter model\n",
    "print(f'Intercept: {model.intercept_}')\n",
    "print(f'Coeffeicient: {model.coef_}')\n"
   ]
  },
  {
   "cell_type": "code",
   "execution_count": 4,
   "id": "6f47ed05-400d-4c9a-bc35-b40138d0967a",
   "metadata": {},
   "outputs": [
    {
     "name": "stdout",
     "output_type": "stream",
     "text": [
      "Processor Speed: 1.0 GHz, Predicted Price: $300.00\n",
      "Processor Speed: 2.0 GHz, Predicted Price: $400.00\n",
      "Processor Speed: 3.0 GHz, Predicted Price: $500.00\n",
      "Processor Speed: 4.0 GHz, Predicted Price: $600.00\n",
      "Processor Speed: 10.3 GHz, Predicted Price: $1230.00\n"
     ]
    }
   ],
   "source": [
    "# Memprediksi harga untuk kecepatan processor baru\n",
    "new_speeds = [[1.0], [2.0], [3.0], [4.0], [10.3]]\n",
    "new_speeds_df = pd.DataFrame(new_speeds, columns=['Processor_Speed_GHz'])\n",
    "predicted_prices = model.predict(new_speeds_df)\n",
    "\n",
    "# Menampilkan hasil dari prediksi\n",
    "for speed, price in zip(new_speeds, predicted_prices):\n",
    "    print(f'Processor Speed: {speed[0]} GHz, Predicted Price: ${price.item():.2f}')"
   ]
  },
  {
   "cell_type": "code",
   "execution_count": 5,
   "id": "b13a80c3-09a8-4d7a-88b6-d3e48bd98c5e",
   "metadata": {},
   "outputs": [
    {
     "name": "stdout",
     "output_type": "stream",
     "text": [
      "Mean Squared Error: 0.00\n"
     ]
    }
   ],
   "source": [
    "from sklearn.metrics import mean_squared_error\n",
    "\n",
    "# Evaluasi model\n",
    "mse = mean_squared_error(y_test, y_pred)\n",
    "print(f'Mean Squared Error: {mse:.2f}')\n"
   ]
  },
  {
   "cell_type": "code",
   "execution_count": null,
   "id": "f181dc12-decf-48d7-ba84-0b3cb9fd2d67",
   "metadata": {},
   "outputs": [],
   "source": []
  }
 ],
 "metadata": {
  "kernelspec": {
   "display_name": "Python 3 (ipykernel)",
   "language": "python",
   "name": "python3"
  },
  "language_info": {
   "codemirror_mode": {
    "name": "ipython",
    "version": 3
   },
   "file_extension": ".py",
   "mimetype": "text/x-python",
   "name": "python",
   "nbconvert_exporter": "python",
   "pygments_lexer": "ipython3",
   "version": "3.12.2"
  }
 },
 "nbformat": 4,
 "nbformat_minor": 5
}
