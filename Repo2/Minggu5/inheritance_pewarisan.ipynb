{
 "cells": [
  {
   "cell_type": "code",
   "execution_count": 1,
   "id": "521c19d1-35a6-4e7a-b10f-beb58ed9b453",
   "metadata": {},
   "outputs": [],
   "source": [
    "class Gedung:\n",
    "    def __init__(self, warna, nama, tingkat):\n",
    "        self.warna = warna\n",
    "        self.nama = nama\n",
    "        self.tingkat = tingkat\n",
    "    \n",
    "    def tambah_tingkat(self):\n",
    "        self.tingkat += 1\n",
    "\n",
    "\n",
    "class GedungPencakarLangit(Gedung):\n",
    "    def tambah_lift(self):\n",
    "        self.tingkat += 5"
   ]
  },
  {
   "cell_type": "code",
   "execution_count": 2,
   "id": "36c61229-0737-4836-a109-4f295b9f8f84",
   "metadata": {},
   "outputs": [
    {
     "name": "stdout",
     "output_type": "stream",
     "text": [
      "10\n"
     ]
    }
   ],
   "source": [
    "# Kelas Gedung Dasar\n",
    "gedung_1 = Gedung(\"Putih\", \"JavaBuilding\", 10)\n",
    "print(gedung_1.tingkat)"
   ]
  },
  {
   "cell_type": "code",
   "execution_count": 3,
   "id": "04b1bba7-d18f-493f-a779-4be930f87bd1",
   "metadata": {},
   "outputs": [
    {
     "name": "stdout",
     "output_type": "stream",
     "text": [
      "50\n",
      "55\n"
     ]
    }
   ],
   "source": [
    "# Kelas Gedung Pencakar Langit\n",
    "gedung_pencakar_langit_1 = GedungPencakarLangit(\"Biru\", \"PythonTower\", 50)\n",
    "print(gedung_pencakar_langit_1.tingkat)\n",
    "gedung_pencakar_langit_1.tambah_lift()\n",
    "print(gedung_pencakar_langit_1.tingkat)"
   ]
  },
  {
   "cell_type": "code",
   "execution_count": 4,
   "id": "e976ca29-adbd-4131-9906-357681b8b5dd",
   "metadata": {},
   "outputs": [],
   "source": [
    "#Override Method\n",
    "class Gedung:\n",
    "    def __init__(self, warna, nama, tingkat):\n",
    "        self.warna = warna\n",
    "        self.nama = nama\n",
    "        self.tingkat = tingkat\n",
    "    \n",
    "    def tambah_tingkat(self):\n",
    "        self.tingkat += 1\n",
    "\n",
    "class GedungPencakarLangit(Gedung):\n",
    "    def tambah_lift(self):\n",
    "        self.tingkat += 5\n",
    "    \n",
    "    def tambah_tingkat(self):\n",
    "        self.tingkat += 2"
   ]
  },
  {
   "cell_type": "code",
   "execution_count": 5,
   "id": "5c88e6b2-5e01-4f1b-b93e-2513406e3b6a",
   "metadata": {},
   "outputs": [
    {
     "name": "stdout",
     "output_type": "stream",
     "text": [
      "50\n",
      "52\n"
     ]
    }
   ],
   "source": [
    "# Kelas Gedung Pencakar Langit\n",
    "gedung_pencakar_langit_1 = GedungPencakarLangit(\"Biru\", \"PythonTower\", 50)\n",
    "print(gedung_pencakar_langit_1.tingkat)\n",
    "gedung_pencakar_langit_1.tambah_tingkat()\n",
    "print(gedung_pencakar_langit_1.tingkat)\n",
    "\n",
    "#Super Method\n",
    "class Gedung:\n",
    "    def __init__(self, warna, nama, tingkat):\n",
    "        self.warna = warna\n",
    "        self.nama = nama\n",
    "        self.tingkat = tingkat\n",
    "    \n",
    "    def tambah_tingkat(self):\n",
    "        self.tingkat += 1\n",
    "\n",
    "class GedungPencakarLangit(Gedung):\n",
    "    def tambah_lift(self):\n",
    "        self.tingkat += 5\n",
    "    \n",
    "    def tambah_tingkat(self):\n",
    "        super().tambah_tingkat()\n",
    "        print(\"Tingkat gedung Anda meningkat! Pastikan lift berfungsi dengan baik!\")\n"
   ]
  },
  {
   "cell_type": "code",
   "execution_count": 6,
   "id": "681c9c89-e78f-4a9e-a293-1bcb40f7f405",
   "metadata": {},
   "outputs": [
    {
     "name": "stdout",
     "output_type": "stream",
     "text": [
      "Tingkat gedung Anda meningkat! Pastikan lift berfungsi dengan baik!\n",
      "51\n"
     ]
    }
   ],
   "source": [
    "#Kelas Gedung Pencakar Langit\n",
    "gedung_pencakar_langit_1 = GedungPencakarLangit(\"Biru\", \"PythonTower\", 50)\n",
    "gedung_pencakar_langit_1.tambah_tingkat()\n",
    "print(gedung_pencakar_langit_1.tingkat)"
   ]
  }
 ],
 "metadata": {
  "kernelspec": {
   "display_name": "Python 3 (ipykernel)",
   "language": "python",
   "name": "python3"
  },
  "language_info": {
   "codemirror_mode": {
    "name": "ipython",
    "version": 3
   },
   "file_extension": ".py",
   "mimetype": "text/x-python",
   "name": "python",
   "nbconvert_exporter": "python",
   "pygments_lexer": "ipython3",
   "version": "3.12.2"
  }
 },
 "nbformat": 4,
 "nbformat_minor": 5
}
